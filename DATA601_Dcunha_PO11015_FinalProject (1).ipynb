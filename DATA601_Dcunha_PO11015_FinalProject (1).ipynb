{
 "cells": [
  {
   "cell_type": "markdown",
   "id": "657455fa",
   "metadata": {},
   "source": [
    "### Dcunha_PO11015_FinalProject_05_16_2024"
   ]
  },
  {
   "cell_type": "markdown",
   "id": "7aa25fb2",
   "metadata": {},
   "source": [
    "# Predicting Medical Insurance Charges"
   ]
  },
  {
   "cell_type": "markdown",
   "id": "5fd3a873",
   "metadata": {},
   "source": [
    "**Objective:** Develop a predictive model for estimating medical insurance charges based on individual characteristics to assist insurance companies in pricing insurance policies accurately.\n",
    "\n",
    "**Stakeholders:** Insurance companies, policyholders seeking medical insurance coverage.\n",
    "\n",
    "**Data Features:** Age, sex, BMI (Body Mass Index), number of children, smoker status, region, and medical insurance charges (target variable).\n",
    "\n",
    "**Use Cases:** Risk assessment, premium calculation, customer segmentation.\n",
    "\n",
    "**Performance Metrics:** Mean Squared Error (MSE), Mean Absolute Error (MAE), R-squared (R2) score.\n",
    "\n",
    "Understanding these aspects guides the data analysis and modeling process, ensuring that the developed model addresses specific business needs and provides actionable insights for stakeholders."
   ]
  },
  {
   "cell_type": "markdown",
   "id": "5f6ddeb6",
   "metadata": {},
   "source": [
    "## Import all libraries and dependencies"
   ]
  },
  {
   "cell_type": "code",
   "execution_count": 2,
   "id": "9d38d80c",
   "metadata": {},
   "outputs": [],
   "source": [
    "import pandas as pd\n",
    "import numpy as np\n",
    "import matplotlib.pyplot as plt\n",
    "import seaborn as sns\n",
    "from sklearn.preprocessing import StandardScaler\n",
    "from sklearn.model_selection import train_test_split\n",
    "from sklearn.linear_model import LinearRegression\n",
    "from sklearn.metrics import mean_squared_error, mean_absolute_error, r2_score\n",
    " "
   ]
  },
  {
   "cell_type": "markdown",
   "id": "b5bdb4fc",
   "metadata": {},
   "source": [
    "## Reading the dataset"
   ]
  },
  {
   "cell_type": "markdown",
   "id": "b1165e32",
   "metadata": {},
   "source": [
    "Source: https://www.kaggle.com/datasets/mirichoi0218/insurance?resource=download"
   ]
  },
  {
   "cell_type": "code",
   "execution_count": 4,
   "id": "7176cef9",
   "metadata": {
    "scrolled": true
   },
   "outputs": [
    {
     "data": {
      "text/html": [
       "<div>\n",
       "<style scoped>\n",
       "    .dataframe tbody tr th:only-of-type {\n",
       "        vertical-align: middle;\n",
       "    }\n",
       "\n",
       "    .dataframe tbody tr th {\n",
       "        vertical-align: top;\n",
       "    }\n",
       "\n",
       "    .dataframe thead th {\n",
       "        text-align: right;\n",
       "    }\n",
       "</style>\n",
       "<table border=\"1\" class=\"dataframe\">\n",
       "  <thead>\n",
       "    <tr style=\"text-align: right;\">\n",
       "      <th></th>\n",
       "      <th>age</th>\n",
       "      <th>sex</th>\n",
       "      <th>bmi</th>\n",
       "      <th>children</th>\n",
       "      <th>smoker</th>\n",
       "      <th>region</th>\n",
       "      <th>charges</th>\n",
       "    </tr>\n",
       "  </thead>\n",
       "  <tbody>\n",
       "    <tr>\n",
       "      <th>0</th>\n",
       "      <td>19</td>\n",
       "      <td>female</td>\n",
       "      <td>27.900</td>\n",
       "      <td>0</td>\n",
       "      <td>yes</td>\n",
       "      <td>southwest</td>\n",
       "      <td>16884.92400</td>\n",
       "    </tr>\n",
       "    <tr>\n",
       "      <th>1</th>\n",
       "      <td>18</td>\n",
       "      <td>male</td>\n",
       "      <td>33.770</td>\n",
       "      <td>1</td>\n",
       "      <td>no</td>\n",
       "      <td>southeast</td>\n",
       "      <td>1725.55230</td>\n",
       "    </tr>\n",
       "    <tr>\n",
       "      <th>2</th>\n",
       "      <td>28</td>\n",
       "      <td>male</td>\n",
       "      <td>33.000</td>\n",
       "      <td>3</td>\n",
       "      <td>no</td>\n",
       "      <td>southeast</td>\n",
       "      <td>4449.46200</td>\n",
       "    </tr>\n",
       "    <tr>\n",
       "      <th>3</th>\n",
       "      <td>33</td>\n",
       "      <td>male</td>\n",
       "      <td>22.705</td>\n",
       "      <td>0</td>\n",
       "      <td>no</td>\n",
       "      <td>northwest</td>\n",
       "      <td>21984.47061</td>\n",
       "    </tr>\n",
       "    <tr>\n",
       "      <th>4</th>\n",
       "      <td>32</td>\n",
       "      <td>male</td>\n",
       "      <td>28.880</td>\n",
       "      <td>0</td>\n",
       "      <td>no</td>\n",
       "      <td>northwest</td>\n",
       "      <td>3866.85520</td>\n",
       "    </tr>\n",
       "  </tbody>\n",
       "</table>\n",
       "</div>"
      ],
      "text/plain": [
       "   age     sex     bmi  children smoker     region      charges\n",
       "0   19  female  27.900         0    yes  southwest  16884.92400\n",
       "1   18    male  33.770         1     no  southeast   1725.55230\n",
       "2   28    male  33.000         3     no  southeast   4449.46200\n",
       "3   33    male  22.705         0     no  northwest  21984.47061\n",
       "4   32    male  28.880         0     no  northwest   3866.85520"
      ]
     },
     "execution_count": 4,
     "metadata": {},
     "output_type": "execute_result"
    }
   ],
   "source": [
    "df=pd.read_csv('insurance.csv')\n",
    "df.head()"
   ]
  },
  {
   "cell_type": "code",
   "execution_count": 6,
   "id": "d5b6d48a",
   "metadata": {},
   "outputs": [
    {
     "name": "stdout",
     "output_type": "stream",
     "text": [
      "<class 'pandas.core.frame.DataFrame'>\n",
      "RangeIndex: 1338 entries, 0 to 1337\n",
      "Data columns (total 7 columns):\n",
      " #   Column    Non-Null Count  Dtype  \n",
      "---  ------    --------------  -----  \n",
      " 0   age       1338 non-null   int64  \n",
      " 1   sex       1338 non-null   object \n",
      " 2   bmi       1338 non-null   float64\n",
      " 3   children  1338 non-null   int64  \n",
      " 4   smoker    1338 non-null   object \n",
      " 5   region    1338 non-null   object \n",
      " 6   charges   1338 non-null   float64\n",
      "dtypes: float64(2), int64(2), object(3)\n",
      "memory usage: 73.3+ KB\n"
     ]
    }
   ],
   "source": [
    "df.info()"
   ]
  },
  {
   "cell_type": "code",
   "execution_count": 7,
   "id": "e05aa345",
   "metadata": {},
   "outputs": [
    {
     "data": {
      "text/html": [
       "<div>\n",
       "<style scoped>\n",
       "    .dataframe tbody tr th:only-of-type {\n",
       "        vertical-align: middle;\n",
       "    }\n",
       "\n",
       "    .dataframe tbody tr th {\n",
       "        vertical-align: top;\n",
       "    }\n",
       "\n",
       "    .dataframe thead th {\n",
       "        text-align: right;\n",
       "    }\n",
       "</style>\n",
       "<table border=\"1\" class=\"dataframe\">\n",
       "  <thead>\n",
       "    <tr style=\"text-align: right;\">\n",
       "      <th></th>\n",
       "      <th>age</th>\n",
       "      <th>bmi</th>\n",
       "      <th>children</th>\n",
       "      <th>charges</th>\n",
       "    </tr>\n",
       "  </thead>\n",
       "  <tbody>\n",
       "    <tr>\n",
       "      <th>count</th>\n",
       "      <td>1338.000000</td>\n",
       "      <td>1338.000000</td>\n",
       "      <td>1338.000000</td>\n",
       "      <td>1338.000000</td>\n",
       "    </tr>\n",
       "    <tr>\n",
       "      <th>mean</th>\n",
       "      <td>39.207025</td>\n",
       "      <td>30.663397</td>\n",
       "      <td>1.094918</td>\n",
       "      <td>13270.422265</td>\n",
       "    </tr>\n",
       "    <tr>\n",
       "      <th>std</th>\n",
       "      <td>14.049960</td>\n",
       "      <td>6.098187</td>\n",
       "      <td>1.205493</td>\n",
       "      <td>12110.011237</td>\n",
       "    </tr>\n",
       "    <tr>\n",
       "      <th>min</th>\n",
       "      <td>18.000000</td>\n",
       "      <td>15.960000</td>\n",
       "      <td>0.000000</td>\n",
       "      <td>1121.873900</td>\n",
       "    </tr>\n",
       "    <tr>\n",
       "      <th>25%</th>\n",
       "      <td>27.000000</td>\n",
       "      <td>26.296250</td>\n",
       "      <td>0.000000</td>\n",
       "      <td>4740.287150</td>\n",
       "    </tr>\n",
       "    <tr>\n",
       "      <th>50%</th>\n",
       "      <td>39.000000</td>\n",
       "      <td>30.400000</td>\n",
       "      <td>1.000000</td>\n",
       "      <td>9382.033000</td>\n",
       "    </tr>\n",
       "    <tr>\n",
       "      <th>75%</th>\n",
       "      <td>51.000000</td>\n",
       "      <td>34.693750</td>\n",
       "      <td>2.000000</td>\n",
       "      <td>16639.912515</td>\n",
       "    </tr>\n",
       "    <tr>\n",
       "      <th>max</th>\n",
       "      <td>64.000000</td>\n",
       "      <td>53.130000</td>\n",
       "      <td>5.000000</td>\n",
       "      <td>63770.428010</td>\n",
       "    </tr>\n",
       "  </tbody>\n",
       "</table>\n",
       "</div>"
      ],
      "text/plain": [
       "               age          bmi     children       charges\n",
       "count  1338.000000  1338.000000  1338.000000   1338.000000\n",
       "mean     39.207025    30.663397     1.094918  13270.422265\n",
       "std      14.049960     6.098187     1.205493  12110.011237\n",
       "min      18.000000    15.960000     0.000000   1121.873900\n",
       "25%      27.000000    26.296250     0.000000   4740.287150\n",
       "50%      39.000000    30.400000     1.000000   9382.033000\n",
       "75%      51.000000    34.693750     2.000000  16639.912515\n",
       "max      64.000000    53.130000     5.000000  63770.428010"
      ]
     },
     "execution_count": 7,
     "metadata": {},
     "output_type": "execute_result"
    }
   ],
   "source": [
    "df.describe()"
   ]
  },
  {
   "cell_type": "markdown",
   "id": "ce08e5a2",
   "metadata": {},
   "source": [
    "## Data Cleaning"
   ]
  },
  {
   "cell_type": "code",
   "execution_count": 9,
   "id": "70606ae3",
   "metadata": {},
   "outputs": [
    {
     "name": "stdout",
     "output_type": "stream",
     "text": [
      "Missing values:\n",
      " age         0\n",
      "sex         0\n",
      "bmi         0\n",
      "children    0\n",
      "smoker      0\n",
      "region      0\n",
      "charges     0\n",
      "dtype: int64\n",
      "\n",
      "Data types:\n",
      " age           int64\n",
      "sex          object\n",
      "bmi         float64\n",
      "children      int64\n",
      "smoker       object\n",
      "region       object\n",
      "charges     float64\n",
      "dtype: object\n"
     ]
    }
   ],
   "source": [
    "# Check for missing values\n",
    "missing_values = df.isnull().sum()\n",
    "print(\"Missing values:\\n\", missing_values)\n",
    "\n",
    "# Check data types of each column\n",
    "data_types = df.dtypes\n",
    "print(\"\\nData types:\\n\", data_types)\n"
   ]
  },
  {
   "cell_type": "markdown",
   "id": "fe3c928e",
   "metadata": {},
   "source": [
    "No missing value found"
   ]
  },
  {
   "cell_type": "markdown",
   "id": "4734bcd1",
   "metadata": {},
   "source": [
    "## Exploratory Analysis"
   ]
  },
  {
   "cell_type": "markdown",
   "id": "8ae2585d",
   "metadata": {},
   "source": [
    "### Histograms of Numerical Variables"
   ]
  },
  {
   "cell_type": "code",
   "execution_count": 20,
   "id": "290a8849",
   "metadata": {
    "scrolled": false
   },
   "outputs": [
    {
     "data": {
      "image/png": "[encoded data removed]",
      "text/plain": [
       "<Figure size 1500x1000 with 4 Axes>"
      ]
     },
     "metadata": {},
     "output_type": "display_data"
    }
   ],
   "source": [
    "# Set the style for seaborn\n",
    "sns.set(style=\"whitegrid\")\n",
    "\n",
    "# Plot histograms for numerical variables\n",
    "numerical_features = [\"age\", \"bmi\", \"children\", \"charges\"]\n",
    "df[numerical_features].hist(bins=20, figsize=(15, 10), layout=(2, 2))\n",
    "plt.suptitle(\"Histograms of Numerical Variables\")\n",
    "plt.show()\n"
   ]
  },
  {
   "cell_type": "markdown",
   "id": "c44bdf0d",
   "metadata": {},
   "source": [
    "### Boxplots"
   ]
  },
  {
   "cell_type": "code",
   "execution_count": 21,
   "id": "b0a83300",
   "metadata": {},
   "outputs": [
    {
     "data": {
      "image/png": "[encoded data removed]",
      "text/plain": [
       "<Figure size 1500x500 with 4 Axes>"
      ]
     },
     "metadata": {},
     "output_type": "display_data"
    }
   ],
   "source": [
    "# Plot box plots for numerical variables\n",
    "plt.figure(figsize=(15, 5))\n",
    "for i, feature in enumerate(numerical_features):\n",
    "    plt.subplot(1, 4, i + 1)\n",
    "    sns.boxplot(x=df[feature])\n",
    "    plt.title(f\"Boxplot of {feature}\")\n",
    "plt.show()"
   ]
  },
  {
   "cell_type": "markdown",
   "id": "a63546e2",
   "metadata": {},
   "source": [
    "* Age Distribution:\n",
    "    * The “Boxplot of age” shows a fairly symmetrical distribution of ages.\n",
    "    * The majority of individuals fall between approximately 20 to 60 years old.\n",
    "    * The median age (the line inside the box) is around 40 years.\n",
    "    * There are no extreme outliers in this distribution.\n",
    "* BMI (Body Mass Index):\n",
    "    * The “Boxplot of bmi” reveals the distribution of BMI values.\n",
    "    * Most data points cluster between approximately 20 to 40 BMI units.\n",
    "    * Some outliers exist beyond 40 BMI units, indicating individuals with higher BMI.\n",
    "    * The median BMI is around 30.\n",
    "* Number of Children:\n",
    "    * The “Boxplot of children” represents the distribution of the number of children.\n",
    "    * The data is skewed toward fewer children.\n",
    "    * Many individuals have no children or only one child.\n",
    "    * Fewer data points are associated with having more than two children.\n",
    "* Medical Charges:\n",
    "    * The “Boxplot of charges” displays the distribution of medical charges.\n",
    "    * It is highly skewed to the right, indicating that most people incur lower charges.\n",
    "    * However, there are significant outliers with very high charges.\n",
    "    * Understanding these outliers and their underlying factors could be crucial for healthcare cost management."
   ]
  },
  {
   "cell_type": "markdown",
   "id": "12e45ccb",
   "metadata": {},
   "source": [
    "### Visualization Of Categorical Features"
   ]
  },
  {
   "cell_type": "code",
   "execution_count": 23,
   "id": "604f41e6",
   "metadata": {},
   "outputs": [
    {
     "data": {
      "image/png": "[encoded data removed]",
      "text/plain": [
       "<Figure size 1500x500 with 3 Axes>"
      ]
     },
     "metadata": {},
     "output_type": "display_data"
    }
   ],
   "source": [
    "# Plot count plots for categorical variables\n",
    "categorical_features = [\"sex\", \"smoker\", \"region\"]\n",
    "plt.figure(figsize=(15, 5))\n",
    "for i, feature in enumerate(categorical_features):\n",
    "    plt.subplot(1, 3, i + 1)\n",
    "    sns.countplot(x=df[feature])\n",
    "    plt.title(f\"Countplot of {feature}\")\n",
    "plt.show()"
   ]
  },
  {
   "cell_type": "markdown",
   "id": "a6bb9c81",
   "metadata": {},
   "source": [
    "## Data Preprocessing"
   ]
  },
  {
   "cell_type": "markdown",
   "id": "b5a95af7",
   "metadata": {},
   "source": [
    "### Encoding"
   ]
  },
  {
   "cell_type": "code",
   "execution_count": 12,
   "id": "6eb3ee32",
   "metadata": {},
   "outputs": [
    {
     "data": {
      "text/html": [
       "<div>\n",
       "<style scoped>\n",
       "    .dataframe tbody tr th:only-of-type {\n",
       "        vertical-align: middle;\n",
       "    }\n",
       "\n",
       "    .dataframe tbody tr th {\n",
       "        vertical-align: top;\n",
       "    }\n",
       "\n",
       "    .dataframe thead th {\n",
       "        text-align: right;\n",
       "    }\n",
       "</style>\n",
       "<table border=\"1\" class=\"dataframe\">\n",
       "  <thead>\n",
       "    <tr style=\"text-align: right;\">\n",
       "      <th></th>\n",
       "      <th>age</th>\n",
       "      <th>bmi</th>\n",
       "      <th>children</th>\n",
       "      <th>charges</th>\n",
       "      <th>sex_male</th>\n",
       "      <th>smoker_yes</th>\n",
       "      <th>region_northwest</th>\n",
       "      <th>region_southeast</th>\n",
       "      <th>region_southwest</th>\n",
       "    </tr>\n",
       "  </thead>\n",
       "  <tbody>\n",
       "    <tr>\n",
       "      <th>0</th>\n",
       "      <td>19</td>\n",
       "      <td>27.900</td>\n",
       "      <td>0</td>\n",
       "      <td>16884.92400</td>\n",
       "      <td>False</td>\n",
       "      <td>True</td>\n",
       "      <td>False</td>\n",
       "      <td>False</td>\n",
       "      <td>True</td>\n",
       "    </tr>\n",
       "    <tr>\n",
       "      <th>1</th>\n",
       "      <td>18</td>\n",
       "      <td>33.770</td>\n",
       "      <td>1</td>\n",
       "      <td>1725.55230</td>\n",
       "      <td>True</td>\n",
       "      <td>False</td>\n",
       "      <td>False</td>\n",
       "      <td>True</td>\n",
       "      <td>False</td>\n",
       "    </tr>\n",
       "    <tr>\n",
       "      <th>2</th>\n",
       "      <td>28</td>\n",
       "      <td>33.000</td>\n",
       "      <td>3</td>\n",
       "      <td>4449.46200</td>\n",
       "      <td>True</td>\n",
       "      <td>False</td>\n",
       "      <td>False</td>\n",
       "      <td>True</td>\n",
       "      <td>False</td>\n",
       "    </tr>\n",
       "    <tr>\n",
       "      <th>3</th>\n",
       "      <td>33</td>\n",
       "      <td>22.705</td>\n",
       "      <td>0</td>\n",
       "      <td>21984.47061</td>\n",
       "      <td>True</td>\n",
       "      <td>False</td>\n",
       "      <td>True</td>\n",
       "      <td>False</td>\n",
       "      <td>False</td>\n",
       "    </tr>\n",
       "    <tr>\n",
       "      <th>4</th>\n",
       "      <td>32</td>\n",
       "      <td>28.880</td>\n",
       "      <td>0</td>\n",
       "      <td>3866.85520</td>\n",
       "      <td>True</td>\n",
       "      <td>False</td>\n",
       "      <td>True</td>\n",
       "      <td>False</td>\n",
       "      <td>False</td>\n",
       "    </tr>\n",
       "  </tbody>\n",
       "</table>\n",
       "</div>"
      ],
      "text/plain": [
       "   age     bmi  children      charges  sex_male  smoker_yes  region_northwest  \\\n",
       "0   19  27.900         0  16884.92400     False        True             False   \n",
       "1   18  33.770         1   1725.55230      True       False             False   \n",
       "2   28  33.000         3   4449.46200      True       False             False   \n",
       "3   33  22.705         0  21984.47061      True       False              True   \n",
       "4   32  28.880         0   3866.85520      True       False              True   \n",
       "\n",
       "   region_southeast  region_southwest  \n",
       "0             False              True  \n",
       "1              True             False  \n",
       "2              True             False  \n",
       "3             False             False  \n",
       "4             False             False  "
      ]
     },
     "execution_count": 12,
     "metadata": {},
     "output_type": "execute_result"
    }
   ],
   "source": [
    "# Perform one-hot encoding for categorical variables\n",
    "df_encoded = pd.get_dummies(df, columns=[\"sex\", \"smoker\", \"region\"], drop_first=True)\n",
    "\n",
    "# Display the first few rows of the encoded dataset\n",
    "df_encoded.head()\n"
   ]
  },
  {
   "cell_type": "markdown",
   "id": "5314a355",
   "metadata": {},
   "source": [
    "### Standardization"
   ]
  },
  {
   "cell_type": "code",
   "execution_count": 16,
   "id": "a9f4d387",
   "metadata": {},
   "outputs": [
    {
     "data": {
      "text/html": [
       "<div>\n",
       "<style scoped>\n",
       "    .dataframe tbody tr th:only-of-type {\n",
       "        vertical-align: middle;\n",
       "    }\n",
       "\n",
       "    .dataframe tbody tr th {\n",
       "        vertical-align: top;\n",
       "    }\n",
       "\n",
       "    .dataframe thead th {\n",
       "        text-align: right;\n",
       "    }\n",
       "</style>\n",
       "<table border=\"1\" class=\"dataframe\">\n",
       "  <thead>\n",
       "    <tr style=\"text-align: right;\">\n",
       "      <th></th>\n",
       "      <th>age</th>\n",
       "      <th>bmi</th>\n",
       "      <th>children</th>\n",
       "      <th>charges</th>\n",
       "      <th>sex_male</th>\n",
       "      <th>smoker_yes</th>\n",
       "      <th>region_northwest</th>\n",
       "      <th>region_southeast</th>\n",
       "      <th>region_southwest</th>\n",
       "    </tr>\n",
       "  </thead>\n",
       "  <tbody>\n",
       "    <tr>\n",
       "      <th>0</th>\n",
       "      <td>-1.438764</td>\n",
       "      <td>-0.453320</td>\n",
       "      <td>-0.908614</td>\n",
       "      <td>16884.92400</td>\n",
       "      <td>False</td>\n",
       "      <td>True</td>\n",
       "      <td>False</td>\n",
       "      <td>False</td>\n",
       "      <td>True</td>\n",
       "    </tr>\n",
       "    <tr>\n",
       "      <th>1</th>\n",
       "      <td>-1.509965</td>\n",
       "      <td>0.509621</td>\n",
       "      <td>-0.078767</td>\n",
       "      <td>1725.55230</td>\n",
       "      <td>True</td>\n",
       "      <td>False</td>\n",
       "      <td>False</td>\n",
       "      <td>True</td>\n",
       "      <td>False</td>\n",
       "    </tr>\n",
       "    <tr>\n",
       "      <th>2</th>\n",
       "      <td>-0.797954</td>\n",
       "      <td>0.383307</td>\n",
       "      <td>1.580926</td>\n",
       "      <td>4449.46200</td>\n",
       "      <td>True</td>\n",
       "      <td>False</td>\n",
       "      <td>False</td>\n",
       "      <td>True</td>\n",
       "      <td>False</td>\n",
       "    </tr>\n",
       "    <tr>\n",
       "      <th>3</th>\n",
       "      <td>-0.441948</td>\n",
       "      <td>-1.305531</td>\n",
       "      <td>-0.908614</td>\n",
       "      <td>21984.47061</td>\n",
       "      <td>True</td>\n",
       "      <td>False</td>\n",
       "      <td>True</td>\n",
       "      <td>False</td>\n",
       "      <td>False</td>\n",
       "    </tr>\n",
       "    <tr>\n",
       "      <th>4</th>\n",
       "      <td>-0.513149</td>\n",
       "      <td>-0.292556</td>\n",
       "      <td>-0.908614</td>\n",
       "      <td>3866.85520</td>\n",
       "      <td>True</td>\n",
       "      <td>False</td>\n",
       "      <td>True</td>\n",
       "      <td>False</td>\n",
       "      <td>False</td>\n",
       "    </tr>\n",
       "  </tbody>\n",
       "</table>\n",
       "</div>"
      ],
      "text/plain": [
       "        age       bmi  children      charges  sex_male  smoker_yes  \\\n",
       "0 -1.438764 -0.453320 -0.908614  16884.92400     False        True   \n",
       "1 -1.509965  0.509621 -0.078767   1725.55230      True       False   \n",
       "2 -0.797954  0.383307  1.580926   4449.46200      True       False   \n",
       "3 -0.441948 -1.305531 -0.908614  21984.47061      True       False   \n",
       "4 -0.513149 -0.292556 -0.908614   3866.85520      True       False   \n",
       "\n",
       "   region_northwest  region_southeast  region_southwest  \n",
       "0             False             False              True  \n",
       "1             False              True             False  \n",
       "2             False              True             False  \n",
       "3              True             False             False  \n",
       "4              True             False             False  "
      ]
     },
     "execution_count": 16,
     "metadata": {},
     "output_type": "execute_result"
    }
   ],
   "source": [
    "# Initialize the StandardScaler\n",
    "scaler = StandardScaler()\n",
    "\n",
    "# Select numerical features for scaling\n",
    "numerical_features = [\"age\", \"bmi\", \"children\"]\n",
    "\n",
    "# Apply standardization to numerical features\n",
    "df_encoded[numerical_features] = scaler.fit_transform(df_encoded[numerical_features])\n",
    "\n",
    "# Display the first few rows of the scaled dataset\n",
    "df_encoded.head()\n"
   ]
  },
  {
   "cell_type": "markdown",
   "id": "690d4c50",
   "metadata": {},
   "source": [
    " ## Split Dataset for Training and Testing"
   ]
  },
  {
   "cell_type": "code",
   "execution_count": 17,
   "id": "d9944b28",
   "metadata": {},
   "outputs": [
    {
     "name": "stdout",
     "output_type": "stream",
     "text": [
      "Training set shape (X, y): (1070, 8) (1070,)\n",
      "Testing set shape (X, y): (268, 8) (268,)\n"
     ]
    }
   ],
   "source": [
    "# Split the dataset into features (X) and target variable (y)\n",
    "X = df_encoded.drop(\"charges\", axis=1)  # Features\n",
    "y = df_encoded[\"charges\"]              # Target variable\n",
    "\n",
    "# Split the data into training and testing sets (80% train, 20% test)\n",
    "X_train, X_test, y_train, y_test = train_test_split(X, y, test_size=0.2, random_state=42)\n",
    "\n",
    "# Display the shapes of the training and testing sets\n",
    "print(\"Training set shape (X, y):\", X_train.shape, y_train.shape)\n",
    "print(\"Testing set shape (X, y):\", X_test.shape, y_test.shape)\n"
   ]
  },
  {
   "cell_type": "markdown",
   "id": "ea4fc47f",
   "metadata": {},
   "source": [
    "## Modelling"
   ]
  },
  {
   "cell_type": "code",
   "execution_count": 18,
   "id": "617d6a20",
   "metadata": {
    "scrolled": true
   },
   "outputs": [
    {
     "name": "stdout",
     "output_type": "stream",
     "text": [
      "Mean Squared Error (MSE): 33596915.85136149\n",
      "Mean Absolute Error (MAE): 4181.194473753652\n",
      "R-squared (R2) Score: 0.7835929767120722\n"
     ]
    }
   ],
   "source": [
    "# Initialize the linear regression model\n",
    "linear_reg = LinearRegression()\n",
    "\n",
    "# Train the model on the training data\n",
    "linear_reg.fit(X_train, y_train)\n",
    "\n",
    "# Predict on the testing data\n",
    "y_pred = linear_reg.predict(X_test)\n",
    "\n",
    "# Evaluate the model\n",
    "mse = mean_squared_error(y_test, y_pred)\n",
    "mae = mean_absolute_error(y_test, y_pred)\n",
    "r2 = r2_score(y_test, y_pred)\n",
    "\n",
    "print(\"Mean Squared Error (MSE):\", mse)\n",
    "print(\"Mean Absolute Error (MAE):\", mae)\n",
    "print(\"R-squared (R2) Score:\", r2)\n"
   ]
  },
  {
   "cell_type": "markdown",
   "id": "7571bd95",
   "metadata": {},
   "source": [
    "* Mean Squared Error (MSE): The MSE value is approximately 33,596,915.85. This means, on average, the squared difference between the actual and predicted charges is around 33,596,915.85. Lower MSE values indicate better model performance, so this value suggests that there is some room for improvement in predicting the charges.\n",
    "\n",
    "* Mean Absolute Error (MAE): The MAE value is approximately 4,181.19. This means, on average, the absolute difference between the actual and predicted charges is around 4,181.19. Similarly to MSE, lower MAE values indicate better model performance.\n",
    "\n",
    "* R-squared (R2) Score: The R-squared score is approximately 0.784. This indicates that around 78.4% of the variance in the target variable (charges) is predictable from the features included in the model. A higher R-squared value closer to 1 suggests a better fit of the model to the data.\n",
    "\n",
    "Overall, these metrics suggest that the linear regression model provides a decent fit to the data, but there might be room for improvement, especially in reducing the mean squared error and mean absolute error. You can explore additional techniques such as feature engineering, trying different regression algorithms, or hyperparameter tuning to potentially improve the model's performance further."
   ]
  },
  {
   "cell_type": "code",
   "execution_count": 24,
   "id": "ba73e67c",
   "metadata": {},
   "outputs": [
    {
     "data": {
      "image/png": "[encoded data removed]",
      "text/plain": [
       "<Figure size 1000x600 with 1 Axes>"
      ]
     },
     "metadata": {},
     "output_type": "display_data"
    }
   ],
   "source": [
    "\n",
    "# Plot actual vs. predicted values\n",
    "plt.figure(figsize=(10, 6))\n",
    "plt.scatter(y_test, y_pred, color='blue', alpha=0.5)\n",
    "plt.plot(np.linspace(0, np.max(y_test), 100), np.linspace(0, np.max(y_test), 100), color='red', linestyle='--')\n",
    "plt.title('Actual vs. Predicted Charges')\n",
    "plt.xlabel('Actual Charges')\n",
    "plt.ylabel('Predicted Charges')\n",
    "plt.grid(True)\n",
    "plt.show()\n"
   ]
  },
  {
   "cell_type": "markdown",
   "id": "488ee82d",
   "metadata": {},
   "source": [
    "* Accuracy at Lower Charges: The model seems to perform well for lower charge values, as indicated by the concentration of blue dots around the red dashed line, which represents perfect prediction accuracy.\n",
    "* Deviation at Higher Charges: There is a visible deviation from the red dashed line as the actual charges increase, suggesting that the model’s predictions become less accurate for higher charge amounts.\n",
    "* Overall Model Performance: The general clustering of data points around the red dashed line for lower charges indicates that the model has a good predictive performance in this range. However, the spread of points away from the line at higher charges could be an area to investigate and improve the model’s accuracy.\n",
    "* Potential Improvements: To enhance the model, one might consider additional data, feature engineering, or different modeling techniques to better capture the relationship between actual and predicted charges, especially for higher values."
   ]
  },
  {
   "cell_type": "code",
   "execution_count": 32,
   "id": "317bb195",
   "metadata": {},
   "outputs": [
    {
     "data": {
      "text/html": [
       "<div>\n",
       "<style scoped>\n",
       "    .dataframe tbody tr th:only-of-type {\n",
       "        vertical-align: middle;\n",
       "    }\n",
       "\n",
       "    .dataframe tbody tr th {\n",
       "        vertical-align: top;\n",
       "    }\n",
       "\n",
       "    .dataframe thead th {\n",
       "        text-align: right;\n",
       "    }\n",
       "</style>\n",
       "<table border=\"1\" class=\"dataframe\">\n",
       "  <thead>\n",
       "    <tr style=\"text-align: right;\">\n",
       "      <th></th>\n",
       "      <th>age</th>\n",
       "      <th>bmi</th>\n",
       "      <th>children</th>\n",
       "      <th>sex_male</th>\n",
       "      <th>smoker_yes</th>\n",
       "      <th>region_northwest</th>\n",
       "      <th>region_southeast</th>\n",
       "      <th>region_southwest</th>\n",
       "    </tr>\n",
       "  </thead>\n",
       "  <tbody>\n",
       "    <tr>\n",
       "      <th>764</th>\n",
       "      <td>0.412467</td>\n",
       "      <td>-0.900341</td>\n",
       "      <td>0.751079</td>\n",
       "      <td>False</td>\n",
       "      <td>False</td>\n",
       "      <td>False</td>\n",
       "      <td>False</td>\n",
       "      <td>False</td>\n",
       "    </tr>\n",
       "    <tr>\n",
       "      <th>887</th>\n",
       "      <td>-0.228344</td>\n",
       "      <td>-0.105546</td>\n",
       "      <td>-0.908614</td>\n",
       "      <td>False</td>\n",
       "      <td>False</td>\n",
       "      <td>True</td>\n",
       "      <td>False</td>\n",
       "      <td>False</td>\n",
       "    </tr>\n",
       "    <tr>\n",
       "      <th>890</th>\n",
       "      <td>1.765289</td>\n",
       "      <td>-0.619825</td>\n",
       "      <td>-0.908614</td>\n",
       "      <td>False</td>\n",
       "      <td>True</td>\n",
       "      <td>True</td>\n",
       "      <td>False</td>\n",
       "      <td>False</td>\n",
       "    </tr>\n",
       "    <tr>\n",
       "      <th>1293</th>\n",
       "      <td>0.483668</td>\n",
       "      <td>-0.806836</td>\n",
       "      <td>1.580926</td>\n",
       "      <td>True</td>\n",
       "      <td>False</td>\n",
       "      <td>True</td>\n",
       "      <td>False</td>\n",
       "      <td>False</td>\n",
       "    </tr>\n",
       "    <tr>\n",
       "      <th>259</th>\n",
       "      <td>-1.438764</td>\n",
       "      <td>0.206139</td>\n",
       "      <td>-0.908614</td>\n",
       "      <td>True</td>\n",
       "      <td>True</td>\n",
       "      <td>True</td>\n",
       "      <td>False</td>\n",
       "      <td>False</td>\n",
       "    </tr>\n",
       "    <tr>\n",
       "      <th>...</th>\n",
       "      <td>...</td>\n",
       "      <td>...</td>\n",
       "      <td>...</td>\n",
       "      <td>...</td>\n",
       "      <td>...</td>\n",
       "      <td>...</td>\n",
       "      <td>...</td>\n",
       "      <td>...</td>\n",
       "    </tr>\n",
       "    <tr>\n",
       "      <th>109</th>\n",
       "      <td>1.694088</td>\n",
       "      <td>0.726160</td>\n",
       "      <td>-0.908614</td>\n",
       "      <td>True</td>\n",
       "      <td>True</td>\n",
       "      <td>False</td>\n",
       "      <td>True</td>\n",
       "      <td>False</td>\n",
       "    </tr>\n",
       "    <tr>\n",
       "      <th>575</th>\n",
       "      <td>1.338082</td>\n",
       "      <td>-0.573072</td>\n",
       "      <td>-0.908614</td>\n",
       "      <td>False</td>\n",
       "      <td>False</td>\n",
       "      <td>True</td>\n",
       "      <td>False</td>\n",
       "      <td>False</td>\n",
       "    </tr>\n",
       "    <tr>\n",
       "      <th>535</th>\n",
       "      <td>-0.085942</td>\n",
       "      <td>-0.432814</td>\n",
       "      <td>-0.078767</td>\n",
       "      <td>True</td>\n",
       "      <td>False</td>\n",
       "      <td>False</td>\n",
       "      <td>False</td>\n",
       "      <td>False</td>\n",
       "    </tr>\n",
       "    <tr>\n",
       "      <th>543</th>\n",
       "      <td>1.053277</td>\n",
       "      <td>2.747188</td>\n",
       "      <td>-0.908614</td>\n",
       "      <td>False</td>\n",
       "      <td>True</td>\n",
       "      <td>False</td>\n",
       "      <td>True</td>\n",
       "      <td>False</td>\n",
       "    </tr>\n",
       "    <tr>\n",
       "      <th>846</th>\n",
       "      <td>0.839674</td>\n",
       "      <td>0.580160</td>\n",
       "      <td>-0.078767</td>\n",
       "      <td>False</td>\n",
       "      <td>False</td>\n",
       "      <td>False</td>\n",
       "      <td>False</td>\n",
       "      <td>True</td>\n",
       "    </tr>\n",
       "  </tbody>\n",
       "</table>\n",
       "<p>268 rows × 8 columns</p>\n",
       "</div>"
      ],
      "text/plain": [
       "           age       bmi  children  sex_male  smoker_yes  region_northwest  \\\n",
       "764   0.412467 -0.900341  0.751079     False       False             False   \n",
       "887  -0.228344 -0.105546 -0.908614     False       False              True   \n",
       "890   1.765289 -0.619825 -0.908614     False        True              True   \n",
       "1293  0.483668 -0.806836  1.580926      True       False              True   \n",
       "259  -1.438764  0.206139 -0.908614      True        True              True   \n",
       "...        ...       ...       ...       ...         ...               ...   \n",
       "109   1.694088  0.726160 -0.908614      True        True             False   \n",
       "575   1.338082 -0.573072 -0.908614     False       False              True   \n",
       "535  -0.085942 -0.432814 -0.078767      True       False             False   \n",
       "543   1.053277  2.747188 -0.908614     False        True             False   \n",
       "846   0.839674  0.580160 -0.078767     False       False             False   \n",
       "\n",
       "      region_southeast  region_southwest  \n",
       "764              False             False  \n",
       "887              False             False  \n",
       "890              False             False  \n",
       "1293             False             False  \n",
       "259              False             False  \n",
       "...                ...               ...  \n",
       "109               True             False  \n",
       "575              False             False  \n",
       "535              False             False  \n",
       "543               True             False  \n",
       "846              False              True  \n",
       "\n",
       "[268 rows x 8 columns]"
      ]
     },
     "execution_count": 32,
     "metadata": {},
     "output_type": "execute_result"
    }
   ],
   "source": [
    "X_test"
   ]
  },
  {
   "cell_type": "markdown",
   "id": "262dcf90",
   "metadata": {},
   "source": [
    "## Demonstration"
   ]
  },
  {
   "cell_type": "code",
   "execution_count": 39,
   "id": "6e9f70a6",
   "metadata": {},
   "outputs": [
    {
     "name": "stdout",
     "output_type": "stream",
     "text": [
      "Predicted Medical Insurance Charges: 215775.26747714583\n"
     ]
    }
   ],
   "source": [
    "# Define the characteristics of the individual\n",
    "sample_individual = {\n",
    "    'age': 35,\n",
    "    'bmi': 27.5,\n",
    "    'children': 2,\n",
    "    'sex_male': 1,  # Assuming male\n",
    "    'smoker_yes': 1,  # Assuming non-smoker\n",
    "    'region_northwest': 0,  # Assuming southeast region\n",
    "    'region_southeast': 1,\n",
    "    'region_southwest': 0\n",
    "}\n",
    "\n",
    "# Convert the individual's characteristics into a DataFrame\n",
    "sample_df = pd.DataFrame(sample_individual, index=[0])\n",
    "\n",
    "# Scale numerical features using the same scaler from model training\n",
    "#sample_df_scaled = scaler.transform(sample_df)\n",
    "\n",
    "# Predict medical insurance charges for the sample individual\n",
    "predicted_charges = linear_reg.predict(sample_df)\n",
    "\n",
    "print(\"Predicted Medical Insurance Charges:\", predicted_charges[0])\n"
   ]
  }
 ],
 "metadata": {
  "kernelspec": {
   "display_name": "Python 3 (ipykernel)",
   "language": "python",
   "name": "python3"
  },
  "language_info": {
   "codemirror_mode": {
    "name": "ipython",
    "version": 3
   },
   "file_extension": ".py",
   "mimetype": "text/x-python",
   "name": "python",
   "nbconvert_exporter": "python",
   "pygments_lexer": "ipython3",
   "version": "3.11.5"
  }
 },
 "nbformat": 4,
 "nbformat_minor": 5
}
